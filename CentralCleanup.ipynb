{
 "cells": [
  {
   "cell_type": "markdown",
   "id": "5b72e6c2-c8fd-4093-900b-723873f3a850",
   "metadata": {},
   "source": [
    "# IMPORTS"
   ]
  },
  {
   "cell_type": "code",
   "execution_count": null,
   "id": "4fea20e8-e2c8-47ff-8109-b51b66a522df",
   "metadata": {},
   "outputs": [],
   "source": [
    "from setup_classes import SCIM, AADDatabricksAPI, DatabricksPermissionsAPI\n",
    "#!pip install databricks-api\n",
    "from databricks_api import DatabricksAPI\n",
    "import json\n",
    "import configparser\n",
    "from helper_functions import *"
   ]
  },
  {
   "cell_type": "markdown",
   "id": "15009c04-25c8-441c-b651-64e87b90b11b",
   "metadata": {},
   "source": [
    "# CONFIG"
   ]
  },
  {
   "cell_type": "code",
   "execution_count": null,
   "id": "1bc8cc26-687f-4e1e-b960-d036982f9f5e",
   "metadata": {},
   "outputs": [],
   "source": [
    "CONFIG_FILE = \"./config.json\"\n",
    "PROFILES_FILE = \"/Users/Daniel.Perez/.databrickscfg\""
   ]
  },
  {
   "cell_type": "code",
   "execution_count": null,
   "id": "a549d05f-bff4-478b-9dc0-f97c124968d3",
   "metadata": {},
   "outputs": [],
   "source": [
    "with open(CONFIG_FILE,\"r\") as f:\n",
    "    config = json.load(f)"
   ]
  },
  {
   "cell_type": "code",
   "execution_count": null,
   "id": "d39e4a67-a0d4-42ff-a475-2699780a677c",
   "metadata": {},
   "outputs": [],
   "source": [
    "profiles = configparser.ConfigParser()\n",
    "profiles.read(PROFILES_FILE)"
   ]
  },
  {
   "cell_type": "markdown",
   "id": "45ae0e05-0112-486e-9c98-da3175c6856f",
   "metadata": {},
   "source": [
    "# MAIN"
   ]
  },
  {
   "cell_type": "code",
   "execution_count": null,
   "id": "7c8b1b95-1ad8-42b4-b8ea-041f6a803c10",
   "metadata": {},
   "outputs": [],
   "source": [
    "central_workspace = config[\"central_workspace\"]\n",
    "satellite_workspaces = config[\"satellite_workspaces\"]"
   ]
  },
  {
   "cell_type": "code",
   "execution_count": null,
   "id": "7b43e9d7-51ec-405c-a127-c7176057f8db",
   "metadata": {},
   "outputs": [],
   "source": [
    "central_url = profiles[central_workspace[\"profile\"]][\"host\"]\n",
    "central_token = profiles[central_workspace[\"profile\"]][\"token\"]\n",
    "central_scope = central_workspace[\"secret_scope\"]\n",
    "central_username = central_workspace[\"username\"]"
   ]
  },
  {
   "cell_type": "code",
   "execution_count": null,
   "id": "120e8e23-b705-4ef3-92df-290075fb5e7a",
   "metadata": {},
   "outputs": [],
   "source": [
    "db = DatabricksAPI(host=central_url,\n",
    "                   token=central_token)"
   ]
  },
  {
   "cell_type": "code",
   "execution_count": null,
   "id": "91825935-b4af-448e-810d-6e31bfd01f1a",
   "metadata": {},
   "outputs": [],
   "source": [
    "deleteScope(db, central_scope)"
   ]
  },
  {
   "cell_type": "code",
   "execution_count": null,
   "id": "c8164b58-2946-4d14-b17e-b7e0ff5b569b",
   "metadata": {},
   "outputs": [],
   "source": [
    "scim = SCIM(central_username,\n",
    "            central_token,\n",
    "            central_url)"
   ]
  },
  {
   "cell_type": "code",
   "execution_count": null,
   "id": "126ba669-9ae0-4bc3-817b-ebf79d222f69",
   "metadata": {},
   "outputs": [],
   "source": [
    "for satellite_workspace in satellite_workspaces:\n",
    "    service_principal = satellite_workspace[\"service_principal\"][\"display_name\"]\n",
    "    \n",
    "    try:\n",
    "        print(f\"Deleting {service_principal} from Central Workspace...\")\n",
    "        scim.ServicePrincipal.delete_by_display_name(service_principal)\n",
    "        print(f\"\\t...deleted\")\n",
    "    except:\n",
    "        print(f\"\\t...didn't exist\")\n"
   ]
  },
  {
   "cell_type": "code",
   "execution_count": null,
   "id": "4226b089-b330-45b7-90f7-277aa5528eb8",
   "metadata": {},
   "outputs": [],
   "source": [
    "scim.ServicePrincipal.list()"
   ]
  }
 ],
 "metadata": {
  "kernelspec": {
   "display_name": "Python 3",
   "language": "python",
   "name": "python3"
  },
  "language_info": {
   "codemirror_mode": {
    "name": "ipython",
    "version": 3
   },
   "file_extension": ".py",
   "mimetype": "text/x-python",
   "name": "python",
   "nbconvert_exporter": "python",
   "pygments_lexer": "ipython3",
   "version": "3.9.1"
  }
 },
 "nbformat": 4,
 "nbformat_minor": 5
}
