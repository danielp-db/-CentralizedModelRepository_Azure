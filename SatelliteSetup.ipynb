{
 "cells": [
  {
   "cell_type": "markdown",
   "id": "d7b6ec82-6616-49b0-a017-8041f1151654",
   "metadata": {},
   "source": [
    "# IMPORTS"
   ]
  },
  {
   "cell_type": "code",
   "execution_count": null,
   "id": "2b7e5bbf-aae9-407e-9d7f-2ec5da42f4b6",
   "metadata": {},
   "outputs": [],
   "source": [
    "import configparser\n",
    "from databricks_api import DatabricksAPI\n",
    "import json\n",
    "from helper_functions import *"
   ]
  },
  {
   "cell_type": "markdown",
   "id": "3d45ddc6-0aea-4be6-91a5-5a30c2a382dc",
   "metadata": {},
   "source": [
    "# PARAMS"
   ]
  },
  {
   "cell_type": "code",
   "execution_count": null,
   "id": "0e454c10-214f-474e-b78f-34a283410e81",
   "metadata": {},
   "outputs": [],
   "source": [
    "CONFIG_FILE = \"./config.json\"\n",
    "PROFILES_FILE = \"/Users/Daniel.Perez/.databrickscfg\"\n",
    "TOKEN_FILE = \"./process_output.json\"\n",
    "\n",
    "SCOPE = \"dp-scope\"\n",
    "PREFIX = \"dp-ml\""
   ]
  },
  {
   "cell_type": "markdown",
   "id": "4412b9f0-6956-4320-9d95-d8d09524c07c",
   "metadata": {},
   "source": [
    "# CONFIG"
   ]
  },
  {
   "cell_type": "code",
   "execution_count": null,
   "id": "d07ae8f2-9e08-4cd8-9ad7-eab1758f119c",
   "metadata": {},
   "outputs": [],
   "source": [
    "profiles = configparser.ConfigParser()\n",
    "profiles.read(PROFILES_FILE)"
   ]
  },
  {
   "cell_type": "code",
   "execution_count": null,
   "id": "7f5ffc6b-0d5d-428c-ba0e-5064c3214436",
   "metadata": {},
   "outputs": [],
   "source": [
    "with open(CONFIG_FILE,'r') as f:\n",
    "    config = json.load(f)"
   ]
  },
  {
   "cell_type": "code",
   "execution_count": null,
   "id": "a4af74ac-0a9d-4ff6-aad1-4df5c2266bed",
   "metadata": {},
   "outputs": [],
   "source": [
    "with open(TOKEN_FILE,'r') as f:\n",
    "    tokens = json.load(f)"
   ]
  },
  {
   "cell_type": "markdown",
   "id": "425337b4-e349-4ea1-ab95-f08b343e8446",
   "metadata": {},
   "source": [
    "# MAIN"
   ]
  },
  {
   "cell_type": "code",
   "execution_count": null,
   "id": "f48736eb-fb61-4db2-9e03-c6f6f2a6f34e",
   "metadata": {},
   "outputs": [],
   "source": [
    "central_workspace = config[\"central_workspace\"]\n",
    "satellite_workspaces = config[\"satellite_workspaces\"]"
   ]
  },
  {
   "cell_type": "code",
   "execution_count": null,
   "id": "e48fb496-d826-42b2-a0fd-cc045779a1af",
   "metadata": {},
   "outputs": [],
   "source": [
    "central_url = profiles[central_workspace[\"profile\"]][\"host\"]\n",
    "central_token = profiles[central_workspace[\"profile\"]][\"token\"]\n",
    "central_workspace_id = central_workspace[\"workspace_id\"]"
   ]
  },
  {
   "cell_type": "code",
   "execution_count": null,
   "id": "6fe20d74-fbdf-4a77-a19d-40e2dcf66c64",
   "metadata": {},
   "outputs": [],
   "source": [
    "for satellite_workspace in satellite_workspaces:\n",
    "    profile = satellite_workspace[\"profile\"]\n",
    "    sp_display_name = satellite_workspace[\"service_principal\"][\"display_name\"]\n",
    "    \n",
    "    satellite_host = profiles[profile][\"host\"]\n",
    "    satellite_token = profiles[profile][\"token\"]\n",
    "    \n",
    "    central_token = tokens[sp_display_name][\"token\"][\"token_value\"]\n",
    "    \n",
    "    print(sp_display_name,profile,satellite_host)\n",
    "    \n",
    "    db = DatabricksAPI(host=satellite_host,\n",
    "                       token=satellite_token)\n",
    "    \n",
    "    createScope(db, SCOPE)\n",
    "    print(\"\\n\")\n",
    "    createMLSecrets(db, SCOPE, PREFIX, central_url, central_token, central_workspace_id)\n",
    "    print(\"\\n*******************************************\\n\")"
   ]
  }
 ],
 "metadata": {
  "kernelspec": {
   "display_name": "Python 3",
   "language": "python",
   "name": "python3"
  },
  "language_info": {
   "codemirror_mode": {
    "name": "ipython",
    "version": 3
   },
   "file_extension": ".py",
   "mimetype": "text/x-python",
   "name": "python",
   "nbconvert_exporter": "python",
   "pygments_lexer": "ipython3",
   "version": "3.9.1"
  }
 },
 "nbformat": 4,
 "nbformat_minor": 5
}
