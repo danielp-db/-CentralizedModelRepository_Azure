{
 "cells": [
  {
   "cell_type": "markdown",
   "id": "63c9fe03-b3f4-4a5d-962e-69edcddb6295",
   "metadata": {},
   "source": [
    "# IMPORTS"
   ]
  },
  {
   "cell_type": "code",
   "execution_count": null,
   "id": "7953bdb6-c133-4684-a52f-e90802f54cec",
   "metadata": {},
   "outputs": [],
   "source": [
    "from setup_classes import SCIM, AADDatabricksAPI, DatabricksPermissionsAPI\n",
    "#!pip install databricks-api\n",
    "from databricks_api import DatabricksAPI\n",
    "import json\n",
    "import configparser\n",
    "from helper_functions import *"
   ]
  },
  {
   "cell_type": "markdown",
   "id": "c1714c31-cd0b-4bad-80f4-6a4e5c0d1d0a",
   "metadata": {},
   "source": [
    "# PARAMETERS"
   ]
  },
  {
   "cell_type": "code",
   "execution_count": null,
   "id": "7b677b44-cec2-431b-9f33-90c8b9ed2eac",
   "metadata": {},
   "outputs": [],
   "source": [
    "CONFIG_FILE = \"./config.json\"\n",
    "PROFILES_FILE = \"/Users/Daniel.Perez/.databrickscfg\"\n",
    "\n",
    "PAT_TOKEN_LIFETIME = -1\n",
    "TOKEN_PERMISSION = \"CAN_USE\"\n",
    "PROCESS_OUTPUT_FILE = \"./process_output.json\""
   ]
  },
  {
   "cell_type": "markdown",
   "id": "6a658d45-5c88-4504-b6ca-abffa29c3fdd",
   "metadata": {},
   "source": [
    "# CONFIG"
   ]
  },
  {
   "cell_type": "code",
   "execution_count": null,
   "id": "ded6d45c-c4e8-4cac-b272-084ba98766f0",
   "metadata": {},
   "outputs": [],
   "source": [
    "with open(CONFIG_FILE,\"r\") as f:\n",
    "    config = json.load(f)"
   ]
  },
  {
   "cell_type": "code",
   "execution_count": null,
   "id": "ae298e04-56b5-4eba-aa28-8715eed6eede",
   "metadata": {},
   "outputs": [],
   "source": [
    "profiles = configparser.ConfigParser()\n",
    "profiles.read(PROFILES_FILE)"
   ]
  },
  {
   "cell_type": "markdown",
   "id": "fb1fd9e6-4473-4e59-addd-57e471db778a",
   "metadata": {},
   "source": [
    "# MAIN"
   ]
  },
  {
   "cell_type": "code",
   "execution_count": null,
   "id": "3996295a-3daa-462a-8d70-30009593a8e6",
   "metadata": {},
   "outputs": [],
   "source": [
    "central_workspace = config[\"central_workspace\"]\n",
    "satellite_workspaces = config[\"satellite_workspaces\"]"
   ]
  },
  {
   "cell_type": "code",
   "execution_count": null,
   "id": "96cc9678-86fc-48d1-b516-7c50d541f783",
   "metadata": {},
   "outputs": [],
   "source": [
    "central_url = profiles[central_workspace[\"profile\"]][\"host\"]\n",
    "central_token = profiles[central_workspace[\"profile\"]][\"token\"]\n",
    "central_scope = central_workspace[\"secret_scope\"]\n",
    "central_username = central_workspace[\"username\"]"
   ]
  },
  {
   "cell_type": "markdown",
   "id": "c4843aa1-b1d3-4184-9efe-2a81504070c0",
   "metadata": {},
   "source": [
    "API Objects"
   ]
  },
  {
   "cell_type": "code",
   "execution_count": null,
   "id": "d8a54ed0-f2d3-4eba-a4ed-ec4d6594ce0e",
   "metadata": {},
   "outputs": [],
   "source": [
    "db = DatabricksAPI(host=central_url,\n",
    "                   token=central_token)\n",
    "scim = SCIM(central_username,\n",
    "            central_token,\n",
    "            central_url)\n",
    "dbPermApi = DatabricksPermissionsAPI(central_username,\n",
    "                                     central_token,\n",
    "                                     central_url)"
   ]
  },
  {
   "cell_type": "markdown",
   "id": "7ec8b013-c579-42fc-a5fa-5063a53185de",
   "metadata": {},
   "source": [
    "Create Secret Scope to Save PAT tokens"
   ]
  },
  {
   "cell_type": "code",
   "execution_count": null,
   "id": "4afbaa08-3882-4232-b26a-2e2029ab64a8",
   "metadata": {},
   "outputs": [],
   "source": [
    "createScope(db, central_scope)"
   ]
  },
  {
   "cell_type": "markdown",
   "id": "966a847c-3f56-4102-9bcf-a39dc4edc7e4",
   "metadata": {},
   "source": [
    "Create de PAT tokens"
   ]
  },
  {
   "cell_type": "code",
   "execution_count": null,
   "id": "4757fde2-7ae3-450b-aeec-5e88a5e286ba",
   "metadata": {},
   "outputs": [],
   "source": [
    "process_output = {}"
   ]
  },
  {
   "cell_type": "code",
   "execution_count": null,
   "id": "b88dd55c-2980-47ab-8600-f13e0339b914",
   "metadata": {},
   "outputs": [],
   "source": [
    "for satellite_workspace in satellite_workspaces:\n",
    "    sp = satellite_workspace[\"service_principal\"]\n",
    "    print(f\"Processing {sp['display_name']}\")\n",
    "    \n",
    "    print(f\"\\tAdding {sp['display_name']} to Databricks Workspace...\")\n",
    "    response = scim.ServicePrincipal.add(sp[\"application_id\"],\n",
    "                                         sp[\"display_name\"])\n",
    "    sp[\"scim\"] = response\n",
    "    print(f\"\\t\\t {response}\\n\")\n",
    "    \n",
    "    print(f\"\\tGiving {TOKEN_PERMISSION} permission to Tokens API...\")\n",
    "    response = dbPermApi.update_token_permissions(sp[\"application_id\"],\n",
    "                                                  TOKEN_PERMISSION)\n",
    "    print(f\"\\t\\t {response}\\n\")\n",
    "    \n",
    "    print(f\"\\tCreating token...\")\n",
    "    dbAADApi = AADDatabricksAPI(sp[\"tenant_id\"],\n",
    "                                sp[\"application_id\"],\n",
    "                                sp[\"client_secret\"],\n",
    "                                central_url)\n",
    "    response = dbAADApi.create_token(sp[\"display_name\"],\n",
    "                                     PAT_TOKEN_LIFETIME)\n",
    "    sp[\"token\"] = response\n",
    "    print(f\"\\t\\t {response}\\n\")\n",
    "    \n",
    "    print(\"\\tAdding token to secret scope...\")\n",
    "    response = db.secret.put_secret(central_scope,\n",
    "                                    sp[\"display_name\"],\n",
    "                                    sp[\"token\"][\"token_value\"])\n",
    "    print(f\"\\t\\t {response}\\n\")\n",
    "    \n",
    "    process_output[sp['display_name']]=sp\n",
    "    \n",
    "    print(f\"******************************************************\\n\\n\")"
   ]
  },
  {
   "cell_type": "markdown",
   "id": "2eb54232-0049-4cdb-87e0-a72d3bd7f3e9",
   "metadata": {},
   "source": [
    "Write output"
   ]
  },
  {
   "cell_type": "code",
   "execution_count": null,
   "id": "e5ab5dd4-e20d-4e7a-babc-82059fb95925",
   "metadata": {},
   "outputs": [],
   "source": [
    "print(f\"Writing output to {PROCESS_OUTPUT_FILE}...\")\n",
    "with open(PROCESS_OUTPUT_FILE, 'w') as f:\n",
    "    json.dump(process_output, f)\n",
    "    print(\"\\t...written\")"
   ]
  },
  {
   "cell_type": "code",
   "execution_count": null,
   "id": "49adb8d1-a3c9-49dc-b5bb-ee39eff13831",
   "metadata": {},
   "outputs": [],
   "source": [
    "scim.ServicePrincipal.list()"
   ]
  }
 ],
 "metadata": {
  "kernelspec": {
   "display_name": "Python 3",
   "language": "python",
   "name": "python3"
  },
  "language_info": {
   "codemirror_mode": {
    "name": "ipython",
    "version": 3
   },
   "file_extension": ".py",
   "mimetype": "text/x-python",
   "name": "python",
   "nbconvert_exporter": "python",
   "pygments_lexer": "ipython3",
   "version": "3.9.1"
  }
 },
 "nbformat": 4,
 "nbformat_minor": 5
}
